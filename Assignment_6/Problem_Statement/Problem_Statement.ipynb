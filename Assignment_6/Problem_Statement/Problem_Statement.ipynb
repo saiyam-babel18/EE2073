{
 "cells": [
  {
   "cell_type": "markdown",
   "metadata": {},
   "source": [
    "# Assignment\n",
    "\n",
    "The traveling salesman problem gives you a set of city locations (x, y coordinates).  Your goal is to find a route from a given starting point that visits all the cities exactly once and then returns to the origin, with the minimum total distance covered (distance is measured as Euclidean distance $\\sqrt{(x_2-x_1)^2 + (y_2-y_1)^2}$).  \n",
    "\n",
    "You will be given a file where the first line is the number of cities *N*, and the next *N* lines give the cities as a list of x, y coordinates: for example\n",
    "```\n",
    "4\n",
    "0.0 1.5\n",
    "2.3 6.1\n",
    "4.2 1.3\n",
    "2.1 4.5\n",
    "```\n",
    "\n",
    "## Code \n",
    "\n",
    "Your goal is to give a sequence of numbers, for example `[0 3 2 1]` which specifies the order in which to visit the cities.  Note that after the last city you will come back to the first one in the list.  \n",
    "\n",
    "You need to write a single function with the following *signature*:\n",
    "\n",
    "```python\n",
    "def tsp(cities):\n",
    "    return cityorder\n",
    "```\n",
    "\n",
    "where\n",
    "\n",
    "- `cities` is a list of `(float, float)` tuples, each one representing the x- and y-coordinate of the city respectively.\n",
    "- `cityorder` should be a list containing the numbers `0` to `N-1` where `N` is the number of cities, in some order.  This order should ideally give the least possible distance, but since this is an NP-hard problem, your goal is actually to try and minimize the distance rather than actually finding the exact optimum.\n",
    "\n",
    "You should also write a function \n",
    "```python\n",
    "def distance(cities, cityorder):\n",
    "    return totaldistance\n",
    "```\n",
    "\n",
    "that will compute the actual total distance required for this sequence of city visits.\n",
    "\n",
    "## Document\n",
    "\n",
    "The document you submit should explain the approach you have used - if you decide not to use simulated annealing for some reason, that is acceptable provided you explain what you have done instead and why it is superior.\n",
    "\n",
    "Plot the cities with the path you have specified, and output the total length of the shortest path discovered so far.\n",
    "\n",
    "For any given input file, you should also calculate how much is the percentage improvement in the path that you see starting from a random initial point to the best possible solution you find.  \n",
    "\n",
    "## Report\n",
    "\n",
    "You need to submit a .zip file that contains all your code (either notebook or plain Python files) and a PDF file (can be generated from the notebook) that clearly documents what you have implemented and how to run your code.  "
   ]
  },
  {
   "cell_type": "code",
   "execution_count": 1,
   "metadata": {},
   "outputs": [
    {
     "ename": "NameError",
     "evalue": "name 'np' is not defined",
     "output_type": "error",
     "traceback": [
      "\u001b[0;31m---------------------------------------------------------------------------\u001b[0m",
      "\u001b[0;31mNameError\u001b[0m                                 Traceback (most recent call last)",
      "Cell \u001b[0;32mIn[1], line 2\u001b[0m\n\u001b[1;32m      1\u001b[0m \u001b[38;5;66;03m# Example Python input and plot\u001b[39;00m\n\u001b[0;32m----> 2\u001b[0m x_cities \u001b[38;5;241m=\u001b[39m \u001b[43mnp\u001b[49m\u001b[38;5;241m.\u001b[39marray([\u001b[38;5;241m0.0\u001b[39m, \u001b[38;5;241m2.3\u001b[39m, \u001b[38;5;241m4.2\u001b[39m, \u001b[38;5;241m2.1\u001b[39m])\n\u001b[1;32m      3\u001b[0m y_cities \u001b[38;5;241m=\u001b[39m np\u001b[38;5;241m.\u001b[39marray([\u001b[38;5;241m1.5\u001b[39m, \u001b[38;5;241m6.1\u001b[39m, \u001b[38;5;241m1.3\u001b[39m, \u001b[38;5;241m4.5\u001b[39m])\n\u001b[1;32m      4\u001b[0m finalorder \u001b[38;5;241m=\u001b[39m [\u001b[38;5;241m0\u001b[39m, \u001b[38;5;241m1\u001b[39m, \u001b[38;5;241m2\u001b[39m, \u001b[38;5;241m3\u001b[39m]\n",
      "\u001b[0;31mNameError\u001b[0m: name 'np' is not defined"
     ]
    }
   ],
   "source": [
    "# Example Python input and plot\n",
    "x_cities = np.array([0.0, 2.3, 4.2, 2.1])\n",
    "y_cities = np.array([1.5, 6.1, 1.3, 4.5])\n",
    "finalorder = [0, 1, 2, 3]\n",
    "\n",
    "# Rearrange for plotting\n",
    "xplot = x_cities[finalorder] \n",
    "yplot = y_cities[finalorder]\n",
    "xplot = np.append(xplot, xplot[0])\n",
    "yplot = np.append(yplot, yplot[0])\n",
    "plt.plot(xplot, yplot, 'o-')\n",
    "plt.show()"
   ]
  },
  {
   "cell_type": "markdown",
   "metadata": {},
   "source": [
    "## Work expectations\n",
    "\n",
    "- `distance` function: ~10-20m\n",
    "- Understanding possible approaches to optimization - simulated annealing or otherwise - and deciding on approach: ~30-60m\n",
    "- Implementing code for `tsp` optimization: ~60m\n",
    "- Documentation: ~30m\n",
    "\n",
    "Total expected time is less than 3 hours.  If you find yourself spending more time than this, please contact instructor and discuss."
   ]
  }
 ],
 "metadata": {
  "kernelspec": {
   "display_name": "Python 3 (ipykernel)",
   "language": "python",
   "name": "python3"
  },
  "language_info": {
   "codemirror_mode": {
    "name": "ipython",
    "version": 3
   },
   "file_extension": ".py",
   "mimetype": "text/x-python",
   "name": "python",
   "nbconvert_exporter": "python",
   "pygments_lexer": "ipython3",
   "version": "3.9.2"
  },
  "vscode": {
   "interpreter": {
    "hash": "135c9c029983d30fe2c25215b219c39403965bc9bf9257a46b5d1e1e22d97d61"
   }
  }
 },
 "nbformat": 4,
 "nbformat_minor": 4
}
