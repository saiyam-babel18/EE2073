{
 "cells": [
  {
   "cell_type": "markdown",
   "id": "0844afb4",
   "metadata": {},
   "source": [
    "# Assignment Goals\n",
    "\n",
    "Assignment 5 requires you to implement gradient descent based optimization.  \n",
    "\n",
    "- Minimum requirement: adapt the code from the presentation to optimize as many of the functions below as possible.\n",
    "- Write a generic function that will take in 2 other functions as input, and a range of values within which to search, and then implement gradient descent to find the optimum.  The basic requirements of gradient descent are already available in the presentation.\n",
    "-  For some assignments, the gradient has not been given.  You can either write the function on your own, or suggest other methods that can achieve this purpose.\n",
    "\n",
    "You need to submit a zip file in the usual format containing the following:\n",
    "\n",
    "- PDF document explaining your solutions for each of the problems.  \n",
    "  - At most one page outlining your overall approach: how have you defined the gradient descent function, what functions can it take as inputs, are there any restrictions on the type of function etc.\n",
    "  - Not more than 1 page per problem.  Only explain anything that is not obvious.  Even a single line is acceptable if you have otherwise explained the overall approach before.  Explain your choice of starting point if relevant.\n",
    "  - The doc for each problem should also contain an image showing the points you started with and how the convergence occurs.  For the 2-D images, you need to generate a 3-D plot.  Refer to the matplotlib documentation for this.\n",
    "- Python code containing:\n",
    "  - the functions below with the same names (`f1`, `f2` etc).\n",
    "  - derivatives of the functions if not already given"
   ]
  },
  {
   "cell_type": "code",
   "execution_count": 14,
   "id": "e669c869-9fd2-4428-985d-0e8583613c33",
   "metadata": {},
   "outputs": [],
   "source": [
    "# The following imports are assumed for the rest of the problems\n",
    "import numpy as np"
   ]
  },
  {
   "cell_type": "markdown",
   "id": "cdffc3cc",
   "metadata": {},
   "source": [
    "## Problem 1 - 1-D simple polynomial\n",
    "\n",
    "The gradient is not specified.  You can write the function for gradient on your own.  The range within which to search for minimum is [-5, 5]."
   ]
  },
  {
   "cell_type": "code",
   "execution_count": null,
   "id": "5df21fc4",
   "metadata": {},
   "outputs": [],
   "source": [
    "def f1(x):\n",
    "    return x ** 2 + 3 * x + 8"
   ]
  },
  {
   "cell_type": "markdown",
   "id": "e6f81aa8",
   "metadata": {},
   "source": [
    "## Problem 2 - 2-D polynomial\n",
    "\n",
    "Functions for derivatives, as well as the range of values within which to search for the minimum, are given."
   ]
  },
  {
   "cell_type": "code",
   "execution_count": 17,
   "id": "6535029a-caea-4da4-a613-fb6a2d69491c",
   "metadata": {},
   "outputs": [],
   "source": [
    "xlim3 =  [-10, 10]\n",
    "ylim3 =  [-10, 10]\n",
    "def f3(x, y):\n",
    "    return x**4 - 16*x**3 + 96*x**2 - 256*x + y**2 - 4*y + 262\n",
    "\n",
    "def df3_dx(x, y):\n",
    "    return 4*x**3 - 48*x**2 + 192*x - 256\n",
    "\n",
    "def df3_dy(x, y):\n",
    "    return 2*y - 4\n"
   ]
  },
  {
   "cell_type": "markdown",
   "id": "d7336ff0",
   "metadata": {},
   "source": [
    "## Problem 3 - 2-D function \n",
    "\n",
    "Derivatives and limits given. "
   ]
  },
  {
   "cell_type": "code",
   "execution_count": null,
   "id": "a08ed29e-d92d-4f8d-8785-e9b804dadd36",
   "metadata": {},
   "outputs": [],
   "source": [
    "xlim4 = [-np.pi, np.pi]\n",
    "def f4(x,y):\n",
    "    return np.exp(-(x - y)**2) * np.sin(y)\n",
    "\n",
    "def df4_dx(x, y):\n",
    "    return -2 * np.exp(-(x - y)**2) * np.sin(y) * (x - y)\n",
    "\n",
    "def df4_dy(x, y):\n",
    "    return np.exp(-(x - y)**2) * np.cos(y) + 2 * np.exp(-(x - y)**2) * np.sin(y)*(x - y)\n"
   ]
  },
  {
   "cell_type": "markdown",
   "id": "75f357cd",
   "metadata": {},
   "source": [
    "## Problem 4 - 1-D trigonometric\n",
    "\n",
    "Derivative not given.  Optimization range [0, 2*pi]"
   ]
  },
  {
   "cell_type": "code",
   "execution_count": 19,
   "id": "b4684cb5-714d-422e-9e4c-2ea02f865951",
   "metadata": {},
   "outputs": [],
   "source": [
    "def f5(x):\n",
    "    return np.cos(x)**4 - np.sin(x)**3 - 4*np.sin(x)**2 + np.cos(x) + 1\n"
   ]
  },
  {
   "cell_type": "markdown",
   "id": "5c1a6bb0",
   "metadata": {},
   "source": [
    "## Work expectations\n",
    "\n",
    "- Implementing basic gradient descent (based on code already discussed in class): ~30-60m\n",
    "- Identifying gradients for problems 1, 4: ~10m each\n",
    "- Matplotlib documentation for 3-D plots: ~30m\n",
    "- Documentation: ~30m\n",
    "\n",
    "Total expected time for this assignment is about 2 hours.  If you find yourself spending much more than that you need to contact the instructor and discuss the reasons."
   ]
  }
 ],
 "metadata": {
  "kernelspec": {
   "display_name": "Python 3 (ipykernel)",
   "language": "python",
   "name": "python3"
  },
  "language_info": {
   "codemirror_mode": {
    "name": "ipython",
    "version": 3
   },
   "file_extension": ".py",
   "mimetype": "text/x-python",
   "name": "python",
   "nbconvert_exporter": "python",
   "pygments_lexer": "ipython3",
   "version": "3.9.2"
  }
 },
 "nbformat": 4,
 "nbformat_minor": 5
}
