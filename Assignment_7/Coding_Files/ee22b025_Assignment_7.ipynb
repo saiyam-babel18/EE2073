{
 "cells": [
  {
   "cell_type": "markdown",
   "id": "d41acd1f-2620-4083-b5cf-9aac3f2795e8",
   "metadata": {
    "tags": []
   },
   "source": [
    "# ASSIGNMENT 7 - CYTHON BY EE22B025\n",
    "This assignment requires us to optimize matrix multiplication using Cython. We are supposed to compare the time taken of normal numpy multiplication with the optimised Cython code. We are also required to calculate FLOPS (floating point operations per second) for the matmul operation. After running the program and tabulating data, we need to provide our conclusions for the assignment."
   ]
  },
  {
   "cell_type": "markdown",
   "id": "96b15ad3-82e4-4d38-a4bb-62ce2a71bc24",
   "metadata": {
    "tags": []
   },
   "source": [
    "# STEP 1 :"
   ]
  },
  {
   "cell_type": "code",
   "execution_count": null,
   "id": "d0d9a50a-f590-4a92-9b1c-0721fe44c517",
   "metadata": {},
   "outputs": [],
   "source": [
    "# NAIVE METHOD OF MATRIX MULTIPLICATION\n",
    "import numpy as np\n",
    "def matrix_multiply(u, v):\n",
    "    m, n = u.shape\n",
    "    n, p = v.shape\n",
    "    res = np.zeros((m, p))\n",
    "    for i in range(m):\n",
    "        for j in range(p):\n",
    "            res[i,j] = 0\n",
    "            for k in range(n):\n",
    "                res[i,j] += u[i,k] * v[k,j]\n",
    "    return res"
   ]
  },
  {
   "cell_type": "code",
   "execution_count": null,
   "id": "659aee68-05af-4ca2-8f77-a07ae6ecf902",
   "metadata": {},
   "outputs": [],
   "source": [
    "# Creating 2 10x10 matrices\n",
    "#np.random.uniform gives floating numbers in the interval [0,100) \n",
    "u = np.random.uniform(0, 100, size=(10,10)) \n",
    "v = np.random.uniform(0, 100, size=(10,10))"
   ]
  },
  {
   "cell_type": "code",
   "execution_count": null,
   "id": "74fc0b02-17db-487c-b4d9-dfc7adc0120d",
   "metadata": {},
   "outputs": [],
   "source": [
    "result_10 = %timeit -n 100 -r 3 -o matrix_multiply(u,v)\n",
    "# the '-o' flag is used to store the timing information of the function in a variable."
   ]
  },
  {
   "cell_type": "code",
   "execution_count": null,
   "id": "928c7712-6069-47c6-9d64-95b0bd9b6014",
   "metadata": {},
   "outputs": [],
   "source": [
    "# Calculating time using np.matmul()\n",
    "result_10_np = %timeit -n 100 -r 3 -o np.matmul(u,v)"
   ]
  },
  {
   "cell_type": "code",
   "execution_count": null,
   "id": "053e7978-639d-455e-b4bd-c2fc0e0772b2",
   "metadata": {},
   "outputs": [],
   "source": [
    "# Estimating Total number of multiplications in matrix_multiply()\n",
    "m, n = u.shape\n",
    "n, p = v.shape\n",
    "mul_nos = m*p*n #because for every iteration in inner loop has one multiplication operation.\n",
    "add_nos = m*p*n #same as no. of multiplication operations.\n",
    "FLOP = 2*mul_nos #given in problem statement\n",
    "FLOPS = (FLOP/result_10.average)/1e9 #divides with the average time taken for running the function\n",
    "FLOPS_fmat_10 = f\"{FLOPS:.5f}\" #to get 3 significant numbers\n",
    "\n",
    "#Priting the values\n",
    "print(f\"The number of multiplications required = {mul_nos}\")\n",
    "print(f\"\\nThe number of additions required = {add_nos}\")\n",
    "print(f\"\\nTotal Floating Point Operations = {FLOP}\")\n",
    "print(f\"\\nFloating Point Operations per Second = {FLOPS_fmat_10} GFLOPS\")"
   ]
  },
  {
   "cell_type": "markdown",
   "id": "f51013b6-5cee-4a37-8d4f-58c10198c675",
   "metadata": {},
   "source": [
    "#### We can observe that matrix_multiply takes longer time than np.matmul()"
   ]
  },
  {
   "cell_type": "markdown",
   "id": "dac33177-0d69-46d3-8c85-8ae2ce475738",
   "metadata": {
    "tags": []
   },
   "source": [
    "# STEP 2 :"
   ]
  },
  {
   "cell_type": "markdown",
   "id": "38b5599b-c41d-450f-a6e8-25ca89e06424",
   "metadata": {},
   "source": [
    "Upon using the lscpu command in the terminal, I find that the maximum operating frequency of the CPU in my system is 2099.998 MHz or approximately 2.1 GHz. To find Maximum number of FLOPS achievable, we can use the following formula : "
   ]
  },
  {
   "cell_type": "markdown",
   "id": "61f30622-8fc6-4310-a1ec-becf4c4f5df7",
   "metadata": {},
   "source": [
    "`Maximum FLOPS = (Max Cpu Freqeuncy (in GHz)/2)`"
   ]
  },
  {
   "cell_type": "markdown",
   "id": "06e9b9ac-9787-4f6c-86a0-469e547bcddf",
   "metadata": {},
   "source": [
    "The reason for dividing by 2 is because the number of Floating Point Operations is twice the number of multiplications (given in the assignment PDF) and that it takes one cycle to perform one multiplication operation."
   ]
  },
  {
   "cell_type": "markdown",
   "id": "8d9eef98-41ec-4cd3-b837-829d9ba01100",
   "metadata": {},
   "source": [
    "Therefore, the Maximum number of FLOPS achievable using a single processor core =  (2.1) * (0.5) = 1.05 GFLOPS."
   ]
  },
  {
   "cell_type": "markdown",
   "id": "bb8c7eda-3f25-45ad-abab-8162e6bf6d1f",
   "metadata": {},
   "source": [
    "Clearly the theoretical \"Maximum\" GFLOPS achievable is much higher than the observed value from the `timeit` module."
   ]
  },
  {
   "cell_type": "markdown",
   "id": "082f1dff-7b5a-4579-88ea-865bc81af595",
   "metadata": {
    "tags": []
   },
   "source": [
    "# STEP 3 :"
   ]
  },
  {
   "cell_type": "markdown",
   "id": "6cfe53a7-2a5f-4784-92ec-8ed93388f55c",
   "metadata": {
    "tags": []
   },
   "source": [
    "### NOTE:\n",
    "- The `-n` flag tells us how many loops are needed per iteration.\n",
    "- The `-r` flag tells us how many iterations are needed."
   ]
  },
  {
   "cell_type": "markdown",
   "id": "83b44d76-be70-4544-a5b4-3e2393f825a8",
   "metadata": {},
   "source": [
    "#### SIZE - 20x20"
   ]
  },
  {
   "cell_type": "code",
   "execution_count": null,
   "id": "2b749084-a2e3-40ec-a36c-67e1bccb7848",
   "metadata": {},
   "outputs": [],
   "source": [
    "# Doubling the size of both the matrices. \n",
    "u20 = np.random.uniform(0, 100, size=(20,20)) \n",
    "v20 = np.random.uniform(0, 100, size=(20,20))"
   ]
  },
  {
   "cell_type": "code",
   "execution_count": null,
   "id": "2da0aa10-f605-4134-87af-9e9fdda872ad",
   "metadata": {},
   "outputs": [],
   "source": [
    "result_20 = %timeit -n 100 -r 3 -o matrix_multiply(u20,v20)\n",
    "result_20_np = %timeit -n 100 -r 3 -o np.matmul(u20,v20)\n",
    "# the '-o' flag is used to store the timing information of the function in a variable.\n",
    "\n",
    "FLOP_20 = 2*20*20*20 \n",
    "FLOPS_20 = (FLOP_20/result_20.average)/1e9 #divides with the average time taken for running the function\n",
    "FLOPS_20_np = (FLOP_20/result_20_np.average)/1e9\n",
    "FLOPS_fmat_20 = f\"{FLOPS_20:.5f}\" #to get 3 significant numbers\n",
    "FLOPS_fmat_20_np = f\"{FLOPS_20_np:.5f}\" #to get 3 significant numbers"
   ]
  },
  {
   "cell_type": "markdown",
   "id": "644b8197-0568-4888-880c-e9ce98443510",
   "metadata": {},
   "source": [
    "#### SIZE - 40x40"
   ]
  },
  {
   "cell_type": "code",
   "execution_count": null,
   "id": "cd370e13-4046-42cf-9980-1056889e9fd2",
   "metadata": {},
   "outputs": [],
   "source": [
    "#Doubling again\n",
    "u40 = np.random.uniform(0, 100, size=(40,40)) \n",
    "v40 = np.random.uniform(0, 100, size=(40,40))\n",
    "\n",
    "result_40 = %timeit -n 100 -r 3 -o matrix_multiply(u40,v40)\n",
    "result_40_np = %timeit -n 100 -r 3 -o u40@v40\n",
    "\n",
    "FLOP_40 = 2*40*40*40 \n",
    "FLOPS_40 = (FLOP_40/result_40.average)/1e9 \n",
    "FLOPS_40_np = (FLOP_40/result_40_np.average)/1e9\n",
    "FLOPS_fmat_40 = f\"{FLOPS_40:.5f}\" \n",
    "FLOPS_fmat_40_np = f\"{FLOPS_40_np:.5f}\" "
   ]
  },
  {
   "cell_type": "markdown",
   "id": "d4958652-7c5c-472a-bb09-080367d6d049",
   "metadata": {},
   "source": [
    "#### SIZE 60x60 : "
   ]
  },
  {
   "cell_type": "code",
   "execution_count": null,
   "id": "2dd16a09-9314-4862-95da-e5bf095e2eca",
   "metadata": {},
   "outputs": [],
   "source": [
    "u60 = np.random.uniform(0, 100, size=(60,60)) \n",
    "v60 = np.random.uniform(0, 100, size=(60,60))\n",
    "\n",
    "result_60 = %timeit -n 10 -r 3 -o matrix_multiply(u60,v60)\n",
    "result_60_np = %timeit -n 100 -r 3 -o u60@v60\n",
    "\n",
    "FLOP_60 = 2*60*60*60 \n",
    "FLOPS_60 = (FLOP_60/result_60.average)/1e9 \n",
    "FLOPS_60_np = (FLOP_60/result_60_np.average)/1e9\n",
    "FLOPS_fmat_60 = f\"{FLOPS_60:.5f}\" \n",
    "FLOPS_fmat_60_np = f\"{FLOPS_60_np:.5f}\" "
   ]
  },
  {
   "cell_type": "markdown",
   "id": "afd0cbb3-18a0-41fd-a144-af17b3c2f4e4",
   "metadata": {},
   "source": [
    "#### SIZE 80x80 : "
   ]
  },
  {
   "cell_type": "code",
   "execution_count": null,
   "id": "8965a70d-6a22-4f33-96dd-3602746c4f61",
   "metadata": {},
   "outputs": [],
   "source": [
    "u80 = np.random.uniform(0, 100, size=(80,80)) \n",
    "v80 = np.random.uniform(0, 100, size=(80,80))\n",
    "\n",
    "result_80 = %timeit -n 10 -r 3 -o matrix_multiply(u80,v80)\n",
    "result_80_np = %timeit -n 100 -r 3 -o u80@v80\n",
    "\n",
    "FLOP_80 = 2*80*80*80 \n",
    "FLOPS_80 = (FLOP_80/result_80.average)/1e9 \n",
    "FLOPS_80_np = (FLOP_80/result_80_np.average)/1e9\n",
    "FLOPS_fmat_80 = f\"{FLOPS_80:.5f}\" \n",
    "FLOPS_fmat_80_np = f\"{FLOPS_80_np:.5f}\" "
   ]
  },
  {
   "cell_type": "markdown",
   "id": "6f6054d0-7aa1-4136-bef6-c696ce4740a1",
   "metadata": {},
   "source": [
    "#### SIZE 100x100 (only for np.matmul) : "
   ]
  },
  {
   "cell_type": "code",
   "execution_count": null,
   "id": "acae19d1-4fab-4d1a-9fc8-4382190a863d",
   "metadata": {},
   "outputs": [],
   "source": [
    "u100 = np.random.uniform(0, 100, size=(100,100)) \n",
    "v100 = np.random.uniform(0, 100, size=(100,100))\n",
    "\n",
    "result_100_np = %timeit -n 100 -r 3 -o u100@v100\n",
    "\n",
    "FLOP_100 = 2*100*100*100 \n",
    "FLOPS_100_np = (FLOP_100/result_100_np.average)/1e9 \n",
    "FLOPS_fmat_100_np = f\"{FLOPS_100_np:.5f}\" "
   ]
  },
  {
   "cell_type": "markdown",
   "id": "3e7f1ce3-8c8e-49a5-bba7-a42932f642c7",
   "metadata": {},
   "source": [
    "#### SIZE 150x150 (only for np.matmul) : "
   ]
  },
  {
   "cell_type": "code",
   "execution_count": null,
   "id": "b7729d57-2db4-468d-8f9b-29192e3962bb",
   "metadata": {},
   "outputs": [],
   "source": [
    "u150 = np.random.uniform(0, 100, size=(150,150)) \n",
    "v150 = np.random.uniform(0, 100, size=(150,150))\n",
    "\n",
    "result_150_np = %timeit -n 100 -r 3 -o u150@v150\n",
    "\n",
    "FLOP_150 = 2*150*150*150 \n",
    "FLOPS_150_np = (FLOP_150/result_150_np.average)/1e9 \n",
    "FLOPS_fmat_150_np = f\"{FLOPS_150_np:.5f}\" "
   ]
  },
  {
   "cell_type": "markdown",
   "id": "3791b5ee-8c23-4468-b8f0-9917fed00b53",
   "metadata": {},
   "source": [
    "#### SIZE 200x200 (only for np.matmul) : "
   ]
  },
  {
   "cell_type": "code",
   "execution_count": null,
   "id": "78fa3b34-be9b-45f2-ae90-5bdc2defc164",
   "metadata": {},
   "outputs": [],
   "source": [
    "u200 = np.random.uniform(0, 100, size=(200,200)) \n",
    "v200 = np.random.uniform(0, 100, size=(200,200))\n",
    "\n",
    "result_200_np = %timeit -n 100 -r 3 -o u200@v200\n",
    "\n",
    "FLOP_200 = 2*200*200*200 \n",
    "FLOPS_200_np = (FLOP_200/result_200_np.average)/1e9 \n",
    "FLOPS_fmat_200_np = f\"{FLOPS_200_np:.5f}\" "
   ]
  },
  {
   "cell_type": "markdown",
   "id": "32676b43-363a-4c8b-9814-94fb6bfb732c",
   "metadata": {},
   "source": [
    "#### SIZE 500x500 (only for np.matmul) : "
   ]
  },
  {
   "cell_type": "code",
   "execution_count": null,
   "id": "a495ea92-7a62-4bb5-91f8-72594306ece9",
   "metadata": {},
   "outputs": [],
   "source": [
    "u500 = np.random.uniform(0, 100, size=(500,500)) \n",
    "v500 = np.random.uniform(0, 100, size=(500,500))\n",
    "\n",
    "result_500_np = %timeit -n 100 -r 3 -o u500@v500\n",
    "\n",
    "FLOP_500 = 2*500*500*500 \n",
    "FLOPS_500_np = (FLOP_500/result_500_np.average)/1e9 \n",
    "FLOPS_fmat_500_np = f\"{FLOPS_500_np:.5f}\" "
   ]
  },
  {
   "cell_type": "markdown",
   "id": "62ba30a4-e99b-4c2b-9bd2-29fc9e36a67c",
   "metadata": {},
   "source": [
    "#### SIZE 750x750 (only for np.matmul) : "
   ]
  },
  {
   "cell_type": "code",
   "execution_count": null,
   "id": "c33e7143-4633-4dcf-81b6-5e0b6a85f445",
   "metadata": {},
   "outputs": [],
   "source": [
    "u750 = np.random.uniform(0, 100, size=(750,750)) \n",
    "v750 = np.random.uniform(0, 100, size=(750,750))\n",
    "\n",
    "result_750_np = %timeit -n 100 -r 3 -o u750@v750\n",
    "\n",
    "FLOP_750 = 2*750*750*750 \n",
    "FLOPS_750_np = (FLOP_750/result_750_np.average)/1e9 \n",
    "FLOPS_fmat_750_np = f\"{FLOPS_750_np:.5f}\" "
   ]
  },
  {
   "cell_type": "markdown",
   "id": "5d6b085e-6cf5-4c8b-9fba-175dcda399f1",
   "metadata": {},
   "source": [
    "`If I go higher than 750x750 size matrix, the program slows down and takes a lot of time to run.`"
   ]
  },
  {
   "cell_type": "markdown",
   "id": "32a7c995-3a77-4f30-a0c0-197d25c68591",
   "metadata": {},
   "source": [
    "### PLOTTING : "
   ]
  },
  {
   "cell_type": "code",
   "execution_count": null,
   "id": "bbccce47-9b42-4d64-9c54-a21b4ac68c47",
   "metadata": {},
   "outputs": [],
   "source": [
    "%matplotlib ipympl\n",
    "import matplotlib.pyplot as plt"
   ]
  },
  {
   "cell_type": "code",
   "execution_count": null,
   "id": "77c7475a-f9e3-4299-9e28-f1b2f9a1a957",
   "metadata": {},
   "outputs": [],
   "source": [
    "#Creating the x and y values for plotting\n",
    "plt.figure()\n",
    "plt.clf()\n",
    "xbase = np.array([10,20,40,60,80])\n",
    "ybase = np.array([result_10.average, result_20.average , result_40.average , result_60.average , result_80.average])\n",
    "plt.plot(xbase, ybase , color = \"red\")\n",
    "plt.xlabel(\"Matrix Size\")\n",
    "plt.ylabel(\"Time Taken\")\n",
    "plt.show()"
   ]
  },
  {
   "cell_type": "code",
   "execution_count": null,
   "id": "7ede1756-9ab8-46fc-9890-6d7e698fc299",
   "metadata": {},
   "outputs": [],
   "source": [
    "plt.figure()\n",
    "plt.clf()\n",
    "xbase_np = np.array([10,20,40,60,80 , 100 ,150 , 200 , 500 ,1000])\n",
    "ybase_np = np.array([result_10_np.average, result_20_np.average , result_40_np.average , result_60_np.average , result_80_np.average , result_100_np.average, result_150_np.average , result_200_np.average , result_500_np.average , result_750_np.average])\n",
    "plt.plot(xbase_np, ybase_np) \n",
    "plt.xlabel(\"Matrix Size\")\n",
    "plt.ylabel(\"Time Taken\")\n",
    "plt.show()"
   ]
  },
  {
   "cell_type": "code",
   "execution_count": null,
   "id": "45f97a7c-c677-48e0-9171-94f1e0882bed",
   "metadata": {},
   "outputs": [],
   "source": [
    "plt.figure(figsize=(7, 7)) \n",
    "plt.clf()\n",
    "xbase = np.array([10,20,40,60,80])\n",
    "ybase = np.array([FLOPS_fmat_10 , FLOPS_fmat_20, FLOPS_fmat_40 , FLOPS_fmat_60 , FLOPS_fmat_80])\n",
    "plt.plot(xbase, ybase , color = \"orange\")\n",
    "plt.xlabel(\"Matrix Size\")\n",
    "plt.ylabel(\"GFLOPS\")\n",
    "plt.show()"
   ]
  },
  {
   "cell_type": "code",
   "execution_count": null,
   "id": "75dbf095-197f-43f1-99e8-dfdfe322294f",
   "metadata": {},
   "outputs": [],
   "source": [
    "plt.figure(figsize=(8, 8)) \n",
    "plt.clf()\n",
    "xbase = np.array([20,40,60,80,100 , 150, 200 ,500 ,750])\n",
    "ybase = np.array([FLOPS_fmat_20_np, FLOPS_fmat_40_np , FLOPS_fmat_60_np , FLOPS_fmat_80_np , FLOPS_fmat_100_np , FLOPS_fmat_150_np , FLOPS_fmat_200_np , FLOPS_fmat_500_np , FLOPS_fmat_750_np])\n",
    "plt.plot(xbase, ybase , color = \"green\")\n",
    "plt.xlabel(\"Matrix Size\")\n",
    "plt.ylabel(\"GFLOPS\")\n",
    "plt.show()"
   ]
  },
  {
   "cell_type": "markdown",
   "id": "ac7181db-883f-45dd-af9d-60dc3b1194be",
   "metadata": {},
   "source": [
    "## OBSERVATION OF GRAPHS : "
   ]
  },
  {
   "cell_type": "markdown",
   "id": "70f25280-e3a8-4821-a619-6d0d44d68861",
   "metadata": {},
   "source": [
    "##### Observation for Time Taken : \n",
    "- We observe that as the matrix size increases the time taken to run the function also increases.\n",
    "- For the matrix_multiply function, the increase in this time taken is `NOT LINEAR`, but looks similar to a Quadratic form.\n",
    "- On the other hand, for the u@v function, as the size of the matrix increases, the time taken also increases but in a `LINEAR` form, especially for bigger matrix sizes.\n",
    "\n",
    "##### Observation for GFLOPS :\n",
    "- We can observe that for matrix_multiply, the GFLOPS value increases `LINEARLY` as the matrix size increases.\n",
    "- For the u@v function, the GFLOPS first increases drastically and then the rate of increase reduces. For large Matrix sizes, it behaves like a `LINEAR` plot. \n",
    "- It is also important to note that the actual y-axis value of the GFLOPS of the matrix_multiply function is very less compared to that of the u@v function. \n",
    "- This tells us that the u@v function performs more floating point operations per second than the matrix_multiply function because it is more optimized."
   ]
  },
  {
   "cell_type": "markdown",
   "id": "d5873ed1-9f49-45ac-bca6-68c9ae85f8e2",
   "metadata": {
    "tags": []
   },
   "source": [
    "# STEP 4 :"
   ]
  },
  {
   "cell_type": "code",
   "execution_count": null,
   "id": "a0a155aa-c088-47b1-8c1e-c92d1d57a292",
   "metadata": {},
   "outputs": [],
   "source": [
    "%load_ext Cython"
   ]
  },
  {
   "cell_type": "code",
   "execution_count": null,
   "id": "9090aea6-8e5c-4aae-b318-dedf499792fb",
   "metadata": {},
   "outputs": [],
   "source": [
    "%%cython -a\n",
    "\n",
    "import numpy as np\n",
    "import cython\n",
    "\n",
    "def cy_matmul(u,v):\n",
    "    cdef m, n, p\n",
    "    cdef i, j, k\n",
    "    m = u.shape[0]\n",
    "    n = u.shape[1]\n",
    "    p = v.shape[1]\n",
    "    res = np.zeros((m, p))\n",
    "    for i in range(m):\n",
    "        for j in range(p):\n",
    "            res[i,j] = 0\n",
    "            for k in range(n):\n",
    "                res[i,j] += u[i,k] * v[k,j]\n",
    "    return res\n"
   ]
  },
  {
   "cell_type": "code",
   "execution_count": null,
   "id": "ef2cbe5e-01d3-40eb-bf60-71320571e57d",
   "metadata": {},
   "outputs": [],
   "source": [
    "u_c = np.random.uniform(0, 100, size=(50,50))\n",
    "v_c = np.random.uniform(0, 100, size=(50,50))\n",
    "result_cy = %timeit -n 20 -r 2 -o cy_matmul(u_c, v_c)"
   ]
  },
  {
   "cell_type": "code",
   "execution_count": null,
   "id": "da63ecee-74f3-4cbd-b21b-90deba5df7a8",
   "metadata": {},
   "outputs": [],
   "source": [
    "u_50 = np.random.uniform(0, 100, size=(50,50))\n",
    "v_50 = np.random.uniform(0, 100, size=(50,50))\n",
    "result_50 = %timeit -n 20 -r 2 -o matrix_multiply(u_50, v_50)"
   ]
  },
  {
   "cell_type": "markdown",
   "id": "a05c2985-ed70-487a-9df3-f0087009eeb6",
   "metadata": {},
   "source": [
    "#### OBSERVATIONS : \n",
    "Here I have timed the Cython Matmul function with two 50x50 Matrices. To compare this value with matrix_multiply, I again created 2 more 50x50 matrices and then used the timeit module to get the time taken to run the function for comparison. This Cython function is without any optimizations."
   ]
  },
  {
   "cell_type": "markdown",
   "id": "e32332cf-a02b-4888-8e39-6b6bad69ab8c",
   "metadata": {},
   "source": [
    "We can observe that the cy_matmul() function takes lesser time than matrix_multiply() function but the difference between them is less. The std. dev error of cy_matmul is much lesser than that of matrix_multiply()\""
   ]
  },
  {
   "cell_type": "markdown",
   "id": "df44ed95-bc44-407d-88be-28bd595e10f3",
   "metadata": {
    "tags": []
   },
   "source": [
    "# STEP 5 :"
   ]
  },
  {
   "cell_type": "markdown",
   "id": "94a55110-866f-4b3e-a736-cfe497aa3e07",
   "metadata": {},
   "source": [
    "Now we will apply optimizations to cy_matmul one by one."
   ]
  },
  {
   "cell_type": "markdown",
   "id": "b77cac40-4f1c-436e-a277-24f1afa57e7b",
   "metadata": {
    "tags": []
   },
   "source": [
    "### OPTIMIZATION 1 : \n",
    "Declare each of the variables i, j, k, m, n, p as int types"
   ]
  },
  {
   "cell_type": "code",
   "execution_count": null,
   "id": "7566c743-a619-4d2c-8e30-ce10ffdf91a6",
   "metadata": {},
   "outputs": [],
   "source": [
    "%%cython -a\n",
    "import numpy as np\n",
    "import cython\n",
    "\n",
    "def cy_matmul1(u,v):\n",
    "    cdef int m, n, p #using int\n",
    "    cdef int i, j, k # using int\n",
    "    m = u.shape[0]\n",
    "    n = u.shape[1]\n",
    "    p = v.shape[1]\n",
    "    res = np.zeros((m, p))\n",
    "    for i in range(m):\n",
    "        for j in range(p):\n",
    "            res[i,j] = 0\n",
    "            for k in range(n):\n",
    "                \n",
    "                res[i,j] += u[i,k] * v[k,j]\n",
    "    return res"
   ]
  },
  {
   "cell_type": "code",
   "execution_count": null,
   "id": "0cbca72e-7a09-4ab5-8d94-7a3c258a0350",
   "metadata": {},
   "outputs": [],
   "source": [
    "result_opt1 = %timeit -n 20 -r 2 -o cy_matmul1(u_c, v_c)"
   ]
  },
  {
   "cell_type": "markdown",
   "id": "91c6d727-66d8-46b2-95e0-ff1d36f6f493",
   "metadata": {},
   "source": [
    "The time has reduced a little from the unoptimized cy_matmul()"
   ]
  },
  {
   "cell_type": "markdown",
   "id": "4877c7fb-dda1-4b82-b50e-a56fc761155f",
   "metadata": {},
   "source": [
    "### OPTIMIZATION 2 : \n",
    "Use the decorator function @cython.boundscheck(False). The @cython.boundscheck(False) function disables bound checking for array indexing. By turning off these bound checks, the code now doesn't have to waste time in checking for bounds everytime as we are sure that the array indexing in our code is safe. "
   ]
  },
  {
   "cell_type": "code",
   "execution_count": null,
   "id": "9f0b41fe-c823-4af2-a395-e60fd7d32c1a",
   "metadata": {},
   "outputs": [],
   "source": [
    "%%cython -a\n",
    "import numpy as np\n",
    "import cython\n",
    "\n",
    "@cython.boundscheck(False) #disabling BoundsCheck\n",
    "\n",
    "def cy_matmul2(u,v):\n",
    "    cdef int m, n, p #using int\n",
    "    cdef int i, j, k # using int\n",
    "    m = u.shape[0]\n",
    "    n = u.shape[1]\n",
    "    p = v.shape[1]\n",
    "    res = np.zeros((m, p))\n",
    "    for i in range(m):\n",
    "        for j in range(p):\n",
    "            res[i,j] = 0\n",
    "            for k in range(n):    \n",
    "                res[i,j] += u[i,k] * v[k,j]\n",
    "    return res"
   ]
  },
  {
   "cell_type": "code",
   "execution_count": null,
   "id": "edfc1393-72a7-4651-82d7-a1fe57f79d5d",
   "metadata": {},
   "outputs": [],
   "source": [
    "result_opt2 = %timeit -n 20 -r 2 -o cy_matmul2(u_c, v_c)"
   ]
  },
  {
   "cell_type": "markdown",
   "id": "309880ec-ee48-44d3-90e3-40b3c1213edc",
   "metadata": {},
   "source": [
    "### OPTIMIZATION 3 : \n",
    "Declare the input variables to be of type double[: , :]"
   ]
  },
  {
   "cell_type": "code",
   "execution_count": null,
   "id": "3b81630c-1626-4040-8826-79d08a042ed5",
   "metadata": {},
   "outputs": [],
   "source": [
    "%%cython -a\n",
    "import numpy as np\n",
    "import cython\n",
    "\n",
    "@cython.boundscheck(False) #disabling BoundsCheck\n",
    "\n",
    "def cy_matmul3(double[:,:] u,double[:,:] v):\n",
    "    cdef int m, n, p #using int\n",
    "    cdef int i, j, k # using int\n",
    "    m = u.shape[0]\n",
    "    n = u.shape[1]\n",
    "    p = v.shape[1]\n",
    "    res = np.zeros((m, p))\n",
    "    for i in range(m):\n",
    "        for j in range(p):\n",
    "            res[i,j] = 0\n",
    "            for k in range(n):    \n",
    "                res[i,j] += u[i,k] * v[k,j]\n",
    "    return res"
   ]
  },
  {
   "cell_type": "code",
   "execution_count": null,
   "id": "92b2a80f-e891-4cb5-b4e8-e3df603cef2c",
   "metadata": {},
   "outputs": [],
   "source": [
    "result_opt3 = %timeit -n 20 -r 2 -o cy_matmul3(u_c, v_c)"
   ]
  },
  {
   "cell_type": "markdown",
   "id": "de484b46-97c3-4db5-8750-21aa63e3461a",
   "metadata": {},
   "source": [
    "### OPTIMIZATION 4 : \n",
    "Declare res also to be an argument to the function, of the same double[: , :] type"
   ]
  },
  {
   "cell_type": "code",
   "execution_count": null,
   "id": "846c9b64-5636-43ef-accb-6511fa247b0f",
   "metadata": {},
   "outputs": [],
   "source": [
    "%%cython -a\n",
    "import numpy as np\n",
    "import cython\n",
    "\n",
    "@cython.boundscheck(False) #disabling BoundsCheck\n",
    "\n",
    "def cy_matmul4(double[:,:] u, double[:,:] v , double[:,:] res):\n",
    "    cdef int m, n, p #using int\n",
    "    cdef int i, j, k # using int\n",
    "    m = u.shape[0]\n",
    "    n = u.shape[1]\n",
    "    p = v.shape[1]\n",
    "    for i in range(m):\n",
    "        for j in range(p):\n",
    "            for k in range(n):    \n",
    "                res[i,j] += u[i,k] * v[k,j]\n",
    "    return res"
   ]
  },
  {
   "cell_type": "code",
   "execution_count": null,
   "id": "2e2453a4-fbfa-4718-8e60-6139a976489f",
   "metadata": {},
   "outputs": [],
   "source": [
    "res = np.zeros((100, 100), dtype=np.double)\n",
    "result_opt4 = %timeit -n 20 -r 2 -o cy_matmul4(u_c, v_c , res)"
   ]
  },
  {
   "cell_type": "markdown",
   "id": "eee39e0d-184c-45d6-bd83-1d560fe1dc7a",
   "metadata": {},
   "source": [
    "### OPTIMIZATION 5 :\n",
    "Change the data type to float[: , :] and repeat."
   ]
  },
  {
   "cell_type": "code",
   "execution_count": null,
   "id": "54619e5c-4ed3-4539-a300-abc19329b42e",
   "metadata": {},
   "outputs": [],
   "source": [
    "%%cython -a\n",
    "import numpy as np\n",
    "import cython\n",
    "\n",
    "@cython.boundscheck(False) #disabling BoundsCheck\n",
    "\n",
    "def cy_matmul5(float[:,:] u, float[:,:] v , float[:,:] res):\n",
    "    cdef int m, n, p #using int\n",
    "    cdef int i, j, k # using int\n",
    "    m = u.shape[0]\n",
    "    n = u.shape[1]\n",
    "    p = v.shape[1]\n",
    "    for i in range(m):\n",
    "        for j in range(p):\n",
    "            for k in range(n):    \n",
    "                res[i,j] += u[i,k] * v[k,j]\n",
    "    return res"
   ]
  },
  {
   "cell_type": "code",
   "execution_count": null,
   "id": "b3c13daa-0545-446a-b6a7-ab9e71b56661",
   "metadata": {},
   "outputs": [],
   "source": [
    "u_c = u_c.astype(np.float32) #changing the data type from double to float\n",
    "v_c = v_c.astype(np.float32)\n",
    "res = np.zeros((100, 100), dtype=np.float32)\n",
    "result_opt4 = %timeit -n 20 -r 2 -o cy_matmul5(u_c, v_c , res)"
   ]
  },
  {
   "cell_type": "markdown",
   "id": "ce71cd07-4a82-4496-9d19-c085801f69c4",
   "metadata": {},
   "source": [
    "#### Observation : \n",
    "From the result we can see that by changing the data type from double[: , :] to float[: , :], there is an improvement in the speed of the function. This happens because float data types are smaller in size (4 bytes) and have lower precision (fewer bits available to represent significant digits) compared to double data type. So there is less storage requirements for float compared to double which thus leads to the lesser runtime."
   ]
  },
  {
   "cell_type": "code",
   "execution_count": null,
   "id": "d8297f93-4821-46cd-b27e-ac69df8f1d56",
   "metadata": {},
   "outputs": [],
   "source": [
    "uv_res = %timeit -n 1000 -r 3 -o u_c@v_c"
   ]
  },
  {
   "cell_type": "markdown",
   "id": "df54a53d-1174-490b-9722-bba7b0bfa555",
   "metadata": {
    "tags": []
   },
   "source": [
    "## FINAL CONCLUSIONS : \n",
    "- We can clearly see that Optimization 3 to 4 (or 3 to 5) resulted in the best improvement.\n",
    "- This improvement is about 200 times!\n",
    "- This happens because of introducing a new argument in the cy_matmul of type double[: , :] `or float[: , :]`. This argument is res which holds the final multiplied matrix.\n",
    "- By adding a new argument in the function call, now there is no need to create an empty zero matrix inside the function for every time you call it but instead you are instantly provided with one when you call the function.\n",
    "- Now if we compare the result of the 5th Optimization with that of u@v, we see a huge difference. u@v is much faster than cy_matmul5. \n",
    "- u@v is faster because of various factors like the code is optimized, it uses machine code, efficiency in memory management etc.\n",
    "\n",
    "## OVERALL CONCLUSIONS : \n",
    "- The equivalent cython matmul function runs much faster than the naive matrix_multiply function.\n",
    "- The graphs tell us that u@v function does more floating point calculations than matrix_multiply."
   ]
  },
  {
   "cell_type": "markdown",
   "id": "29c8b081-b785-4b50-a632-bbab17217449",
   "metadata": {},
   "source": [
    "### INSTRUCTIONS TO RUN CODE : \n",
    "Just choose \"Restart Kernel and Run All Cells\". Wait for all the cells to be run and then analyse the Documentation and the Results."
   ]
  },
  {
   "cell_type": "code",
   "execution_count": null,
   "id": "a1a6aefa-7110-44f4-ae35-fc7e7f5e4e43",
   "metadata": {},
   "outputs": [],
   "source": []
  }
 ],
 "metadata": {
  "kernelspec": {
   "display_name": "Python 3 (ipykernel)",
   "language": "python",
   "name": "python3"
  },
  "language_info": {
   "codemirror_mode": {
    "name": "ipython",
    "version": 3
   },
   "file_extension": ".py",
   "mimetype": "text/x-python",
   "name": "python",
   "nbconvert_exporter": "python",
   "pygments_lexer": "ipython3",
   "version": "3.9.2"
  }
 },
 "nbformat": 4,
 "nbformat_minor": 5
}
