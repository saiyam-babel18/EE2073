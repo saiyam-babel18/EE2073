{
 "cells": [
  {
   "cell_type": "markdown",
   "id": "dcd43847-6d94-4321-bbb9-fa95838932c7",
   "metadata": {},
   "source": [
    "# Assignment 8 - Acoustic Localisation By EE22B025"
   ]
  },
  {
   "cell_type": "markdown",
   "id": "8b9d9733-d0f7-41fb-99b5-cdee401884ed",
   "metadata": {},
   "source": [
    "### INSTRUCTIONS TO RUN CODE : \n",
    "- The modules `numpy` and `matplotlib` must be installed.\n",
    "- When running the `rx2` and `rx3` datasets, change the value of `C` to 0.5.  \n",
    "#### THANK YOU"
   ]
  },
  {
   "cell_type": "code",
   "execution_count": null,
   "id": "62aec565-594b-4dad-b3ff-f3a7a4753181",
   "metadata": {},
   "outputs": [],
   "source": [
    "# Setting up imports \n",
    "import numpy as np\n",
    "import matplotlib.pyplot as plt"
   ]
  },
  {
   "cell_type": "code",
   "execution_count": null,
   "id": "822e1ac6-3387-4b5b-a017-cc53146d34e5",
   "metadata": {},
   "outputs": [],
   "source": [
    "# Main system parameters: number of mics, number of samples in time\n",
    "Nmics = 64\n",
    "Nsamp = 200\n",
    "\n",
    "# Source: x,y coordinates: x: 0+, y: [-Y, +Y] where Y determined by pitch and Nmics\n",
    "src = (0, 0)\n",
    "\n",
    "# Spacing between microphones\n",
    "pitch = 0.1\n",
    "# proxy for sampling rate\n",
    "dist_per_samp = 0.1\n",
    "# Speed of sound in the medium\n",
    "C = 2\n",
    "# Time dilation factor for sinc pulse: how narrow\n",
    "SincP = 2.5\n",
    "\n",
    "# CODE Locations of microphones\n",
    "# X - coordinate of all these mics are 0\n",
    "\n",
    "mics = []\n",
    "if Nmics %2 == 0: #even number of mics\n",
    "    y_coord = -pitch*(Nmics/2) \n",
    "    for j in range(Nmics):\n",
    "        if j == 4:\n",
    "            y_coord += pitch\n",
    "        mics.append((0 , y_coord)) # as x-coordinate is 0\n",
    "        y_coord += pitch\n",
    "else:\n",
    "    y_coord = -pitch*((Nmics-1)/2) \n",
    "    for j in range(Nmics):\n",
    "        mics.append((0, y_coord)) # as x-coordinate is 0\n",
    "        y_coord += pitch\n",
    "\n",
    "# Location of point obstacle\n",
    "obstacle = (3, -1)"
   ]
  },
  {
   "cell_type": "code",
   "execution_count": null,
   "id": "b713eb9b-7640-491f-868e-acb90b92be38",
   "metadata": {},
   "outputs": [],
   "source": [
    "# Source sound wave - time axis and wave\n",
    "# sinc wave with narrowness determined by parameter\n",
    "time_limit = (Nsamp*dist_per_samp / C)\n",
    "t = np.arange(0 ,time_limit , dist_per_samp) #time axis\n",
    "def wsrc(t):\n",
    "    return np.sinc(SincP*t)\n",
    "ybase = wsrc(t)\n",
    "\n",
    "plt.plot(t , ybase)\n",
    "plt.show()"
   ]
  },
  {
   "cell_type": "markdown",
   "id": "7677d555-8c55-4467-818d-4adde560d54f",
   "metadata": {},
   "source": [
    "#### QUESTION: \n",
    "The plots below show two example sinc pulses. How will you generate pulses that look\n",
    "like this? Which parameter should be changed? What effect do you think this will have on the final\n",
    "image?\n",
    "\n",
    "#### Answer: \n",
    "- You can generate pulses which look similar to the ones given in the plot by using the `wrsc(t)` function defined above, which is basically the `sinc` function.\n",
    "- Make the value of `C` = 2.\n",
    "- SincP is the parameter you need to change to get different types of pulse shape.\n",
    "- To get the first figure, you need to change the SincP parameter to `1.0`. SincP is the dilation factor of the sinc function, which means that it decides how strechted or how compressed the sinc function would look like. \n",
    "- For figure 1, we needed a less compressed version of sinc, hence we reduced the SincP factor to 1.0\n",
    "- For figure 2, we need a much more compressed version of sinc, hence we increase the SincP parameter to `5.0`\n",
    "- You can also alter `Nsamp` and `dist_per_samp` values to alter the graph but the main parameter which determines the shape of the graph is `SincP`."
   ]
  },
  {
   "cell_type": "code",
   "execution_count": null,
   "id": "d401c452-ee0d-4de1-a662-7c1a094b9ba9",
   "metadata": {},
   "outputs": [],
   "source": [
    "# Cartesian distance between 2 points in xy plane\n",
    "def cart_dist(x1, y1, x2, y2):\n",
    "    return np.sqrt( (x1 - x2)**2 + (y1 - y2)**2 )\n",
    " \n",
    "\n",
    "# Distance from src to a mic after reflecting through pt\n",
    "def dist(src, pt, mic):\n",
    "    d1 = cart_dist(src[0], src[1] , pt[0], pt[1]) # distance from src to pt\n",
    "    d2 = cart_dist(pt[0], pt[1] , mic[0], mic[1]) # distance from pt to mic\n",
    "    return d1 + d2"
   ]
  },
  {
   "cell_type": "code",
   "execution_count": null,
   "id": "129c2be6-df2a-4fc6-9caa-cfaa5df61f6f",
   "metadata": {},
   "outputs": [],
   "source": [
    "plt.clf()\n",
    "\n",
    "# Code for generating samples for each mic for a given obstacle\n",
    "def time_delay(src, obstacle, mic):\n",
    "    return ((dist(src,obstacle, mic))/ C ) #total distance divided by speed\n",
    "\n",
    "ybase_delayed = [0 for x in range(Nmics)] # will contain all the delayed pulses\n",
    "\n",
    "offset = 0 #to differentiate the plot of all mics\n",
    "\n",
    "for j in range(Nmics):\n",
    "    delay_time_obs = time_delay(src, obstacle, mics[j]) #delay time for obstacle\n",
    "    ybase_delayed[j] = wsrc(t-delay_time_obs)/5 #scaling down to fit multiple curves\n",
    "    plt.plot(t , ybase_delayed[j]+offset)\n",
    "    offset = offset + 0.05"
   ]
  },
  {
   "cell_type": "code",
   "execution_count": null,
   "id": "4a88526d-886d-4301-8170-17ee4781e318",
   "metadata": {},
   "outputs": [],
   "source": [
    "# showing HEAT MAP \n",
    "two_D_array = np.vstack(ybase_delayed)\n",
    "plt.imshow( two_D_array, aspect='auto', interpolation='nearest')"
   ]
  },
  {
   "cell_type": "markdown",
   "id": "125266d4-5f33-4881-a763-e855e8060b8b",
   "metadata": {},
   "source": [
    "### DELAY AND SUM ALGORITHM"
   ]
  },
  {
   "cell_type": "code",
   "execution_count": null,
   "id": "0328b99d-2af1-4541-9c9e-34d6574ca1c7",
   "metadata": {},
   "outputs": [],
   "source": [
    "final_image = np.zeros((Nmics, len(t))) #Final reconstructed image\n",
    "\n",
    "for i in range(len(t)):\n",
    "    for k in range(len(mics)):\n",
    "        mic_sample = 0\n",
    "        for m in mics:\n",
    "            delay_value = time_delay(src, (t[i],mics[k][1]) , m) #getting delay value for each mic\n",
    "            \n",
    "            if delay_value < time_limit : #delay should be within sample range\n",
    "                \n",
    "                index_val = int(delay_value/dist_per_samp) #getting the corresponding index for delay_value\n",
    "                temp = ybase_delayed[k][index_val]\n",
    "                mic_sample += temp\n",
    "                \n",
    "        final_image[k][i] = mic_sample\n",
    "\n",
    "plt.imshow( final_image, aspect='auto', interpolation='nearest')"
   ]
  },
  {
   "cell_type": "markdown",
   "id": "e877be80-0f0e-42fd-b5b9-bf00e3596ac7",
   "metadata": {
    "tags": []
   },
   "source": [
    "#### QUESTIONS : \n",
    "1) Does it make sense to reconstruct up to `Nsamp`? What value is more reasonable as an upper limit for the x-axis here?\n",
    "\n",
    "    `Answer`: No, the more reasonable upper limit for x axis here is `(Nsamp*dist_per_samp)/C`. This value is the upper limit of the time sample. This is more reasonable because we have contructed the source function using `time samples` as x-axis parameter, so it better to use that instead of just `Nsamp`.\n",
    "\n",
    "2) The (x, y) coordinates corresponding to the maximum amplitude (yellow colour) is approximately (30, 22). Explain why this is the correct expected position for the given obstacle\n",
    "\n",
    "    `Answer`: This is the correct expected position. The X coordinate in the HEATMAP corresponds to the no. of `time` samples. Here there are total of 100 time samples with upper limit (`(Nsamp*dist_per_samp)/C`) as 10, so the x coordinate of the obstacle (3) will now correspond to 30. For the y-coordinate, we contructed the grid such that y-axis is (0,63) for the 64 Mics. Earlier it was -3.2 to +3.2 (mic position) but after scaling and shifting, we can see that the y-coordinate of the obstacle (-1) should corresponding to approximately 22 [`-1*10(scale) +32(shift)`]\n",
    "    \n",
    "3) What is the maximum obstacle x- and y- coordinate that you can use and still have an image reconstructed?\n",
    "    \n",
    "    `Answer`: You can take the x- coordinate upto the the max limit of `(Nsamp*dist_per_samp)/C`. As for the y- coordinate, as long as you are in the range of Nmics, you will get a decent reconstructed image.\n",
    "    \n",
    "4) What happens if C is different - if C is decreased it looks like the image becomes sharper. Can you explain why intuitively?\n",
    "\n",
    "    `Answer`: If C is reduced, the sharpness increases because `(Nsamp*dist_per_samp)/C` increases and hence the number of time samples increase giving a more sharper image.\n",
    "    \n",
    "5) What happens if Nmics is increased or decreased? Do the experiments with Nmics = [8, 32, 64] and Nsamp = [50, 100, 200] (all combinations). Attach the resulting images.\n",
    "\n",
    "    `Answer` in PDF!"
   ]
  },
  {
   "cell_type": "markdown",
   "id": "04551718-8cb6-4dd8-9ef6-db34c2eab674",
   "metadata": {},
   "source": [
    "### RX2.TXT AND RX3.TXT\n",
    "\n",
    "NOTE: CHANGE THE VALUE OF `C` TO `0.5` BEFORE RUNNING THE 2 CELLS GIVEN BELOW"
   ]
  },
  {
   "cell_type": "code",
   "execution_count": null,
   "id": "8441dee0-196b-4040-b49e-dfe618306716",
   "metadata": {},
   "outputs": [],
   "source": [
    "# RX2.TXT\n",
    "\n",
    "#CHANGE THE VALUE OF C to 0.5 before runnning!!\n",
    "\n",
    "data_rx2 = np.loadtxt(\"rx2.txt\")\n",
    "\n",
    "final_image_rx2 = np.zeros((Nmics, len(t))) #Final reconstructed image\n",
    "for i in range(len(t)):\n",
    "    for k in range(len(mics)):\n",
    "        mic_sample = 0\n",
    "        for m in mics:\n",
    "            delay_value = time_delay(src, (t[i],mics[k][1]) , m) #getting delay value for each mic\n",
    "            \n",
    "            if delay_value < time_limit : #delay should be within sample range\n",
    "                \n",
    "                index_val = int(delay_value/dist_per_samp)\n",
    "                temp = data_rx2[k][index_val]\n",
    "                mic_sample += temp\n",
    "                \n",
    "        final_image_rx2[k][i] = mic_sample\n",
    "\n",
    "plt.imshow( final_image_rx2, aspect='auto', interpolation='nearest')\n"
   ]
  },
  {
   "cell_type": "code",
   "execution_count": null,
   "id": "37796ff2-7a72-48c6-84dc-b9d5a091de73",
   "metadata": {},
   "outputs": [],
   "source": [
    "# RX3.TXT\n",
    "\n",
    "data_rx3 = np.loadtxt(\"rx3.txt\")\n",
    "\n",
    "final_image_rx3 = np.zeros((Nmics, len(t))) #Final reconstructed image\n",
    "for i in range(len(t)):\n",
    "    for k in range(len(mics)):\n",
    "        mic_sample = 0\n",
    "        for m in mics:\n",
    "            delay_value = time_delay(src, (t[i],mics[k][1]) , m) #getting delay value for each mic\n",
    "            \n",
    "            if delay_value < time_limit : #delay should be within sample range\n",
    "                \n",
    "                index_val = int(delay_value/dist_per_samp)\n",
    "                temp = data_rx3[k][index_val]\n",
    "                mic_sample += temp\n",
    "                \n",
    "        final_image_rx3[k][i] = mic_sample\n",
    "\n",
    "plt.imshow( final_image_rx3, aspect='auto', interpolation='nearest')"
   ]
  },
  {
   "cell_type": "code",
   "execution_count": null,
   "id": "a435404b-fb2c-4f23-80c6-d6a5d17bc626",
   "metadata": {},
   "outputs": [],
   "source": []
  }
 ],
 "metadata": {
  "kernelspec": {
   "display_name": "Python 3 (ipykernel)",
   "language": "python",
   "name": "python3"
  },
  "language_info": {
   "codemirror_mode": {
    "name": "ipython",
    "version": 3
   },
   "file_extension": ".py",
   "mimetype": "text/x-python",
   "name": "python",
   "nbconvert_exporter": "python",
   "pygments_lexer": "ipython3",
   "version": "3.9.2"
  }
 },
 "nbformat": 4,
 "nbformat_minor": 5
}
